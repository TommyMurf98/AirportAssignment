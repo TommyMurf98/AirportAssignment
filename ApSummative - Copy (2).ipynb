{
 "cells": [
  {
   "cell_type": "code",
   "execution_count": 2,
   "id": "086c3b4e-f6e2-443c-b705-632a05c393dc",
   "metadata": {},
   "outputs": [],
   "source": [
    "import pandas as pd\n",
    "import matplotlib\n",
    "from matplotlib.backends.backend_tkagg import FigureCanvasTkAgg\n",
    "from matplotlib.figure import Figure\n",
    "\n",
    "def load_raw_data():\n",
    "    global airports, airport_frequencies, joined\n",
    "    airports = pd.read_csv('airports.csv')\n",
    "    airport_frequencies = pd.read_csv('airport-frequencies.csv')\n",
    "    joined = airports.set_index('ident').join(airport_frequencies.set_index('airport_ident'), rsuffix='_right')"
   ]
  },
  {
   "cell_type": "code",
   "execution_count": 3,
   "id": "f23dbb09-d42a-43c3-93df-8666022ca759",
   "metadata": {},
   "outputs": [],
   "source": [
    "def get_average_text():\n",
    "    result = ''\n",
    "    \n",
    "    # 3Ai - Generate mean for frequency_mhz for large airports\n",
    "    large_airports = joined[joined['type'] == 'large_airport']\n",
    "    result += f\"Large airport mean frequency: {large_airports['frequency_mhz'].mean():.2f}\\n\"\n",
    "    \n",
    "    # Generate median for fmhz for large airports\n",
    "    result += f\"Large airport median frequency: {large_airports['frequency_mhz'].median():.2f}\\n\"\n",
    "    \n",
    "    # Generate mode for fmhz for large airports\n",
    "    for value in large_airports['frequency_mhz'].mode():\n",
    "        result += f\"Large airport mode frequency: {value:.2f}\\n\"\n",
    "    \n",
    "    # 3Aii - Generate mean for frequency_mhz for frequencies over 100 mhz\n",
    "    over_100mhz = joined[joined['frequency_mhz'] > 100]\n",
    "    result += f\"Mean frequency over 100 mhz: {over_100mhz['frequency_mhz'].mean():.2f}\\n\"\n",
    "    result += f\"Median frequency over 100 mhz: {over_100mhz['frequency_mhz'].median():.2f}\\n\"\n",
    "    for value in over_100mhz['frequency_mhz'].mode():\n",
    "        result += f\"Mode frequency over 100 mhz: {value:.2f}\"\n",
    "    \n",
    "    return result"
   ]
  },
  {
   "cell_type": "code",
   "execution_count": 4,
   "id": "28893eb8-e1a1-48d5-89f6-78f41ecb7e93",
   "metadata": {},
   "outputs": [],
   "source": [
    "def generate_frequency_graph(airport_type):\n",
    "    fig = Figure(figsize=(2, 2), dpi=100)\n",
    "    ax = fig.add_subplot(111)\n",
    "    \n",
    "    airports = joined[joined['type'] == airport_type]\n",
    "    airports['frequency_mhz'].sort_values().plot(ax=ax)\n",
    "    \n",
    "    return FigureCanvasTkAgg(fig, master=window)\n",
    "    \n",
    "def show_frequency_graphs():\n",
    "    for airport_type in ('small_airport', 'medium_airport', 'large_airport'):\n",
    "        canvas = generate_frequency_graph(airport_type)\n",
    "        canvas.get_tk_widget().pack()"
   ]
  },
  {
   "cell_type": "code",
   "execution_count": null,
   "id": "86fd6a28-2423-428e-84a6-b6206a57b12b",
   "metadata": {},
   "outputs": [],
   "source": [
    "#Import tkinter library\n",
    "import tkinter as tk\n",
    "import tkinter.ttk as ttk\n",
    "#Create an instance of Tkinter frame or window\n",
    "window = tk.Tk()\n",
    "#Set the geometry of tkinter frame\n",
    "window.geometry(\"400x250\")\n",
    "text_output = ttk.Label(window)\n",
    "\n",
    "def set_text_output(text):\n",
    "    text_output['text'] = text\n",
    "    \n",
    "buttons = []\n",
    "buttons.append(ttk.Button(window, text='Load raw data', command=load_raw_data)) \n",
    "buttons.append(ttk.Button(window, text='Clean data'))\n",
    "buttons.append(ttk.Button(window, text='Load prepared data'))\n",
    "buttons.append(ttk.Button(window, text='Save prepared data'))\n",
    "buttons.append(ttk.Button(window, text='Show averages', command=lambda: set_text_output(get_average_text())))\n",
    "buttons.append(ttk.Button(window, text='Show frequency graphs', command=lambda: show_frequency_graphs()))\n",
    "for button in buttons:\n",
    "    button.pack()\n",
    "text_output.pack()\n",
    "window.mainloop()"
   ]
  },
  {
   "cell_type": "code",
   "execution_count": null,
   "id": "bc870691-2c66-423a-83a7-ed449186dd8c",
   "metadata": {},
   "outputs": [],
   "source": [
    "# 3Aii - Generate mean for frequency_mhz for frequencies over 100 mhz\n",
    "over_100mhz = joined[joined['frequency_mhz'] > 100]\n",
    "over_100mhz['frequency_mhz'].mean()"
   ]
  },
  {
   "cell_type": "code",
   "execution_count": null,
   "id": "e98431a0-bb62-42b0-a4af-4a704efd75d3",
   "metadata": {},
   "outputs": [],
   "source": [
    "# Generate mediam for frequency mhz for frequenices over 100 mhz\n",
    "over_100mhz['frequency_mhz'].median()"
   ]
  },
  {
   "cell_type": "code",
   "execution_count": null,
   "id": "9f504ff2-aa8f-40c9-a19b-6c44a458eca1",
   "metadata": {},
   "outputs": [],
   "source": [
    "# Generate mode for frequency mhz for frequenices over 100 mhz\n",
    "over_100mhz['frequency_mhz'].mode()"
   ]
  },
  {
   "cell_type": "code",
   "execution_count": null,
   "id": "b20188fe-36b4-4ab7-a603-6013f852d103",
   "metadata": {},
   "outputs": [],
   "source": [
    "# 4 \n",
    "small_airports = joined[joined['type'] == 'small_airport']\n",
    "small_airports['frequency_mhz'].sort_values().plot()"
   ]
  },
  {
   "cell_type": "code",
   "execution_count": null,
   "id": "91011ef3-2caa-400a-bceb-3dfd93165f07",
   "metadata": {},
   "outputs": [],
   "source": [
    "# 5 - As above but for medium airports\n",
    "medium_airports = joined[joined['type'] == 'medium_airport']\n",
    "medium_airports['frequency_mhz'].sort_values().plot()"
   ]
  },
  {
   "cell_type": "code",
   "execution_count": null,
   "id": "6bb0ebdf-7f8c-4e93-86f2-f3cfb716a1f8",
   "metadata": {},
   "outputs": [],
   "source": [
    "# 5 - As above but for large airports\n",
    "large_airports['frequency_mhz'].sort_values().plot()"
   ]
  },
  {
   "cell_type": "code",
   "execution_count": null,
   "id": "b64e590d-c59a-4ea9-b93c-c70fbfea0dfb",
   "metadata": {},
   "outputs": [],
   "source": []
  }
 ],
 "metadata": {
  "kernelspec": {
   "display_name": "Python 3",
   "language": "python",
   "name": "python3"
  },
  "language_info": {
   "codemirror_mode": {
    "name": "ipython",
    "version": 3
   },
   "file_extension": ".py",
   "mimetype": "text/x-python",
   "name": "python",
   "nbconvert_exporter": "python",
   "pygments_lexer": "ipython3",
   "version": "3.8.8"
  }
 },
 "nbformat": 4,
 "nbformat_minor": 5
}
