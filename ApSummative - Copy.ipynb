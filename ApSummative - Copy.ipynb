{
 "cells": [
  {
   "cell_type": "code",
   "execution_count": 21,
   "id": "86fd6a28-2423-428e-84a6-b6206a57b12b",
   "metadata": {},
   "outputs": [],
   "source": [
    "#Import tkinter library\n",
    "import tkinter as tk\n",
    "import tkinter.ttk as ttk\n",
    "#Create an instance of Tkinter frame or window\n",
    "window = tk.Tk()\n",
    "#Set the geometry of tkinter frame\n",
    "window.geometry(\"750x250\")\n",
    "text = ttk.Label(window, text=\"Hello World\")\n",
    "button1 = ttk.Button(window, text='Press Me!')\n",
    "text.pack()\n",
    "button1.pack()\n",
    "window.mainloop()"
   ]
  },
  {
   "cell_type": "code",
   "execution_count": 22,
   "id": "086c3b4e-f6e2-443c-b705-632a05c393dc",
   "metadata": {},
   "outputs": [],
   "source": [
    "import pandas as pd\n",
    "\n",
    "airports = pd.read_csv('airports.csv')\n",
    "airport_frequencies = pd.read_csv('airport-frequencies.csv')"
   ]
  },
  {
   "cell_type": "code",
   "execution_count": 23,
   "id": "ee091129-c6fe-4da7-ad55-f0d6454567d5",
   "metadata": {},
   "outputs": [],
   "source": [
    "joined = airports.set_index('ident').join(airport_frequencies.set_index('airport_ident'), rsuffix='_right')"
   ]
  },
  {
   "cell_type": "code",
   "execution_count": 24,
   "id": "6ec9f7c8-0ad6-4c15-96d5-51f3e60e49d5",
   "metadata": {},
   "outputs": [
    {
     "data": {
      "text/plain": [
       "124.5786737821568"
      ]
     },
     "execution_count": 24,
     "metadata": {},
     "output_type": "execute_result"
    }
   ],
   "source": [
    "# 3Ai - Generate mean for frequency_mhz for large airports\n",
    "large_airports = joined[joined['type'] == 'large_airport']\n",
    "large_airports['frequency_mhz'].mean()"
   ]
  },
  {
   "cell_type": "code",
   "execution_count": 25,
   "id": "6a01af84-5f44-4d79-8eee-fe9d2a8b7f26",
   "metadata": {},
   "outputs": [
    {
     "data": {
      "text/plain": [
       "121.8"
      ]
     },
     "execution_count": 25,
     "metadata": {},
     "output_type": "execute_result"
    }
   ],
   "source": [
    "# Generate median for fmhz for large airports\n",
    "large_airports['frequency_mhz'].median()"
   ]
  },
  {
   "cell_type": "code",
   "execution_count": 26,
   "id": "7002cadf-5cf5-4079-bcf4-320127f25aca",
   "metadata": {},
   "outputs": [
    {
     "data": {
      "text/plain": [
       "0    121.9\n",
       "dtype: float64"
      ]
     },
     "execution_count": 26,
     "metadata": {},
     "output_type": "execute_result"
    }
   ],
   "source": [
    "# Generate mode for fmhz for large airports\n",
    "large_airports['frequency_mhz'].mode()"
   ]
  },
  {
   "cell_type": "code",
   "execution_count": 27,
   "id": "bc870691-2c66-423a-83a7-ed449186dd8c",
   "metadata": {},
   "outputs": [
    {
     "data": {
      "text/plain": [
       "131.23346764219602"
      ]
     },
     "execution_count": 27,
     "metadata": {},
     "output_type": "execute_result"
    }
   ],
   "source": [
    "# 3Aii - Generate mean for frequency_mhz for frequencies over 100 mhz\n",
    "over_100mhz = joined[joined['frequency_mhz'] > 100]\n",
    "over_100mhz['frequency_mhz'].mean()"
   ]
  },
  {
   "cell_type": "code",
   "execution_count": 28,
   "id": "e98431a0-bb62-42b0-a4af-4a704efd75d3",
   "metadata": {},
   "outputs": [
    {
     "data": {
      "text/plain": [
       "122.8"
      ]
     },
     "execution_count": 28,
     "metadata": {},
     "output_type": "execute_result"
    }
   ],
   "source": [
    "# Generate mediam for frequency mhz for frequenices over 100 mhz\n",
    "over_100mhz['frequency_mhz'].median()"
   ]
  },
  {
   "cell_type": "code",
   "execution_count": 29,
   "id": "9f504ff2-aa8f-40c9-a19b-6c44a458eca1",
   "metadata": {},
   "outputs": [
    {
     "data": {
      "text/plain": [
       "0    122.8\n",
       "dtype: float64"
      ]
     },
     "execution_count": 29,
     "metadata": {},
     "output_type": "execute_result"
    }
   ],
   "source": [
    "# Generate mode for frequency mhz for frequenices over 100 mhz\n",
    "over_100mhz['frequency_mhz'].mode()"
   ]
  },
  {
   "cell_type": "code",
   "execution_count": 30,
   "id": "b20188fe-36b4-4ab7-a603-6013f852d103",
   "metadata": {},
   "outputs": [
    {
     "data": {
      "text/plain": [
       "<AxesSubplot:>"
      ]
     },
     "execution_count": 30,
     "metadata": {},
     "output_type": "execute_result"
    },
    {
     "data": {
      "image/png": "[encoded data removed]",
      "text/plain": [
       "<Figure size 432x288 with 1 Axes>"
      ]
     },
     "metadata": {
      "needs_background": "light"
     },
     "output_type": "display_data"
    }
   ],
   "source": [
    "# 4 \n",
    "small_airports = joined[joined['type'] == 'small_airport']\n",
    "small_airports['frequency_mhz'].sort_values().plot()"
   ]
  },
  {
   "cell_type": "code",
   "execution_count": 31,
   "id": "91011ef3-2caa-400a-bceb-3dfd93165f07",
   "metadata": {},
   "outputs": [
    {
     "data": {
      "text/plain": [
       "<AxesSubplot:>"
      ]
     },
     "execution_count": 31,
     "metadata": {},
     "output_type": "execute_result"
    },
    {
     "data": {
      "image/png": "[encoded data removed]",
      "text/plain": [
       "<Figure size 432x288 with 1 Axes>"
      ]
     },
     "metadata": {
      "needs_background": "light"
     },
     "output_type": "display_data"
    }
   ],
   "source": [
    "# 5 - As above but for medium airports\n",
    "medium_airports = joined[joined['type'] == 'medium_airport']\n",
    "medium_airports['frequency_mhz'].sort_values().plot()"
   ]
  },
  {
   "cell_type": "code",
   "execution_count": 32,
   "id": "6bb0ebdf-7f8c-4e93-86f2-f3cfb716a1f8",
   "metadata": {},
   "outputs": [
    {
     "data": {
      "text/plain": [
       "<AxesSubplot:>"
      ]
     },
     "execution_count": 32,
     "metadata": {},
     "output_type": "execute_result"
    },
    {
     "data": {
      "image/png": "[encoded data removed]",
      "text/plain": [
       "<Figure size 432x288 with 1 Axes>"
      ]
     },
     "metadata": {
      "needs_background": "light"
     },
     "output_type": "display_data"
    }
   ],
   "source": [
    "# 5 - As above but for large airports\n",
    "large_airports['frequency_mhz'].sort_values().plot()"
   ]
  }
 ],
 "metadata": {
  "kernelspec": {
   "display_name": "Python 3",
   "language": "python",
   "name": "python3"
  },
  "language_info": {
   "codemirror_mode": {
    "name": "ipython",
    "version": 3
   },
   "file_extension": ".py",
   "mimetype": "text/x-python",
   "name": "python",
   "nbconvert_exporter": "python",
   "pygments_lexer": "ipython3",
   "version": "3.8.8"
  }
 },
 "nbformat": 4,
 "nbformat_minor": 5
}
